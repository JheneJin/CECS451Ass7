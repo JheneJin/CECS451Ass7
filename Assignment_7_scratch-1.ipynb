{
 "cells": [
  {
   "cell_type": "code",
   "execution_count": 1,
   "metadata": {
    "id": "-8RXCN8X3sC1"
   },
   "outputs": [],
   "source": [
    "# Generating a toy dataset.\n",
    "# DO NOT MODIFY THIS PART\n",
    "\n",
    "import numpy as np\n",
    "import math\n",
    "import random as rand\n",
    "\n",
    "paras = list((rand.random() - 0.5 for _ in range(13)))\n",
    "\n",
    "def sigmoid(x):\n",
    "    return 1 / (1 + np.exp(-x))\n",
    "\n",
    "def y_gen(x):\n",
    "    h_11 = sigmoid(paras[0] * x[0] + paras[1] * x[1] + paras[2])\n",
    "    h_12 = sigmoid(paras[3] * x[0] + paras[4] * x[1] + paras[5])\n",
    "    h_13 = sigmoid(paras[6] * x[0] + paras[7] * x[1] + paras[8])\n",
    "    h_21 = sigmoid(paras[9] * h_11 + paras[10] * h_12 + paras[11] * h_13 + paras[12])\n",
    "    return h_21 + ((rand.random()-0.5)/100 if rand.random()>0.6 else 0)\n",
    "\n",
    "n = 300\n",
    "x = list(zip((rand.random() - 0.5 for _ in range(n)), (rand.random() - 0.5 for _ in range(n))))\n",
    "y = list(map(y_gen, x))\n",
    "y = [(i-min(y))/(max(y)-min(y)) for i in y]\n",
    "\n",
    "#part a\n",
    "from sklearn.model_selection import train_test_split\n",
    "\n",
    "r = 0.2\n",
    "x_train_valid, x_test, y_train_valid, y_test = train_test_split(x, y, test_size=r)\n",
    "x_train, x_valid, y_train, y_valid = train_test_split(x_train_valid, y_train_valid, test_size=r)"
   ]
  },
  {
   "cell_type": "code",
   "execution_count": 28,
   "metadata": {},
   "outputs": [],
   "source": [
    "#part b\n",
    "\n",
    "def gradient(x):\n",
    "    return sigmoid(x) * (1 - sigmoid(x))\n",
    "\n",
    "def loss(yTrue, yPred):\n",
    "    return np.mean((yTrue - yPred) ** 2)\n",
    "\n",
    "class NN:\n",
    "    def __init__(self):\n",
    "        self.layer1 = np.random.uniform(-1, 1, (2, 3))\n",
    "        self.layer2 = np.random.uniform(-1, 1, (3, 1))\n",
    "        self.bias1 = np.zeros((1, 3))\n",
    "        self.bias2 = np.zeros((1, 1))\n",
    "        self.learning_rate = .001\n",
    "    \n",
    "    def forward(self, X):\n",
    "        z1 = np.dot(X, self.layer1) + self.bias1  \n",
    "        a1 = sigmoid(z1)\n",
    "        z2 = np.dot(a1, self.layer2) + self.bias2\n",
    "        a2 = sigmoid(z2)\n",
    "        return a2\n",
    "\n",
    "    def backward(self, x, y, y_pred):\n",
    "        m = x.shape[0]\n",
    "\n",
    "        dz2 = y_pred - y\n",
    "        dw2 = np.dot(self.layer1.T, dz2.T) / m\n",
    "        db2 = np.sum(dz2, axis=0, keepdims=True) / m\n",
    "        dz1 = np.dot(dz2, self.layer2.T) * gradient(self.forward(x))\n",
    "        dw1 = np.dot(x.T, dz1) / m\n",
    "        db1 = np.sum(dz1, axis=0, keepdims=True) / m\n",
    "\n",
    "        self.layer1 -= self.learning_rate * dw1\n",
    "        self.layer2 -= self.learning_rate * dw2\n",
    "        self.bias1 -= self.learning_rate * db1\n",
    "        self.bias2 -= self.learning_rate * db2"
   ]
  },
  {
   "cell_type": "code",
   "execution_count": 29,
   "metadata": {},
   "outputs": [
    {
     "ename": "ValueError",
     "evalue": "shapes (3,2) and (192,192) not aligned: 2 (dim 1) != 192 (dim 0)",
     "output_type": "error",
     "traceback": [
      "\u001b[1;31m---------------------------------------------------------------------------\u001b[0m",
      "\u001b[1;31mValueError\u001b[0m                                Traceback (most recent call last)",
      "Cell \u001b[1;32mIn[29], line 8\u001b[0m\n\u001b[0;32m      6\u001b[0m y_pred \u001b[38;5;241m=\u001b[39m n\u001b[38;5;241m.\u001b[39mforward(x_train)\n\u001b[0;32m      7\u001b[0m \u001b[38;5;66;03m# n.backward(x_train, y_train, y_pred)\u001b[39;00m\n\u001b[1;32m----> 8\u001b[0m \u001b[43mn\u001b[49m\u001b[38;5;241;43m.\u001b[39;49m\u001b[43mbackward\u001b[49m\u001b[43m(\u001b[49m\u001b[43mnp\u001b[49m\u001b[38;5;241;43m.\u001b[39;49m\u001b[43marray\u001b[49m\u001b[43m(\u001b[49m\u001b[43mx_train\u001b[49m\u001b[43m)\u001b[49m\u001b[43m,\u001b[49m\u001b[43m \u001b[49m\u001b[43mnp\u001b[49m\u001b[38;5;241;43m.\u001b[39;49m\u001b[43marray\u001b[49m\u001b[43m(\u001b[49m\u001b[43my_train\u001b[49m\u001b[43m)\u001b[49m\u001b[43m,\u001b[49m\u001b[43m \u001b[49m\u001b[43my_pred\u001b[49m\u001b[43m)\u001b[49m \n\u001b[0;32m      9\u001b[0m \u001b[38;5;28;01mif\u001b[39;00m i \u001b[38;5;241m%\u001b[39m \u001b[38;5;241m100\u001b[39m \u001b[38;5;241m==\u001b[39m \u001b[38;5;241m0\u001b[39m:\n\u001b[0;32m     10\u001b[0m     \u001b[38;5;28mprint\u001b[39m(\u001b[38;5;124m\"\u001b[39m\u001b[38;5;124mLoss after\u001b[39m\u001b[38;5;124m\"\u001b[39m, i, \u001b[38;5;124m\"\u001b[39m\u001b[38;5;124miterations:\u001b[39m\u001b[38;5;124m\"\u001b[39m, loss(y_train, y_pred))\n",
      "Cell \u001b[1;32mIn[28], line 28\u001b[0m, in \u001b[0;36mNN.backward\u001b[1;34m(self, x, y, y_pred)\u001b[0m\n\u001b[0;32m     25\u001b[0m m \u001b[38;5;241m=\u001b[39m x\u001b[38;5;241m.\u001b[39mshape[\u001b[38;5;241m0\u001b[39m]\n\u001b[0;32m     27\u001b[0m dz2 \u001b[38;5;241m=\u001b[39m y_pred \u001b[38;5;241m-\u001b[39m y\n\u001b[1;32m---> 28\u001b[0m dw2 \u001b[38;5;241m=\u001b[39m \u001b[43mnp\u001b[49m\u001b[38;5;241;43m.\u001b[39;49m\u001b[43mdot\u001b[49m\u001b[43m(\u001b[49m\u001b[38;5;28;43mself\u001b[39;49m\u001b[38;5;241;43m.\u001b[39;49m\u001b[43mlayer1\u001b[49m\u001b[38;5;241;43m.\u001b[39;49m\u001b[43mT\u001b[49m\u001b[43m,\u001b[49m\u001b[43m \u001b[49m\u001b[43mdz2\u001b[49m\u001b[38;5;241;43m.\u001b[39;49m\u001b[43mT\u001b[49m\u001b[43m)\u001b[49m \u001b[38;5;241m/\u001b[39m m\n\u001b[0;32m     29\u001b[0m db2 \u001b[38;5;241m=\u001b[39m np\u001b[38;5;241m.\u001b[39msum(dz2, axis\u001b[38;5;241m=\u001b[39m\u001b[38;5;241m0\u001b[39m, keepdims\u001b[38;5;241m=\u001b[39m\u001b[38;5;28;01mTrue\u001b[39;00m) \u001b[38;5;241m/\u001b[39m m\n\u001b[0;32m     30\u001b[0m dz1 \u001b[38;5;241m=\u001b[39m np\u001b[38;5;241m.\u001b[39mdot(dz2, \u001b[38;5;28mself\u001b[39m\u001b[38;5;241m.\u001b[39mlayer2\u001b[38;5;241m.\u001b[39mT) \u001b[38;5;241m*\u001b[39m gradient(\u001b[38;5;28mself\u001b[39m\u001b[38;5;241m.\u001b[39mforward(x))\n",
      "File \u001b[1;32m<__array_function__ internals>:200\u001b[0m, in \u001b[0;36mdot\u001b[1;34m(*args, **kwargs)\u001b[0m\n",
      "\u001b[1;31mValueError\u001b[0m: shapes (3,2) and (192,192) not aligned: 2 (dim 1) != 192 (dim 0)"
     ]
    }
   ],
   "source": [
    "# Initialize the network\n",
    "n = NN()\n",
    "\n",
    "#part c\n",
    "# Train the network\n",
    "for i in range(1000):\n",
    "    y_pred = n.forward(x_train)\n",
    "    # n.backward(x_train, y_train, y_pred)\n",
    "    n.backward(np.array(x_train), np.array(y_train), y_pred) \n",
    "    if i % 100 == 0:\n",
    "        print(\"Loss after\", i, \"iterations:\", loss(y_train, y_pred))"
   ]
  }
 ],
 "metadata": {
  "colab": {
   "provenance": []
  },
  "kernelspec": {
   "display_name": "Python 3 (ipykernel)",
   "language": "python",
   "name": "python3"
  },
  "language_info": {
   "codemirror_mode": {
    "name": "ipython",
    "version": 3
   },
   "file_extension": ".py",
   "mimetype": "text/x-python",
   "name": "python",
   "nbconvert_exporter": "python",
   "pygments_lexer": "ipython3",
   "version": "3.8.8"
  }
 },
 "nbformat": 4,
 "nbformat_minor": 4
}
